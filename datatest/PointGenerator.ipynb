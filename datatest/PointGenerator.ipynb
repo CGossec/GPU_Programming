{
 "cells": [
  {
   "cell_type": "code",
   "execution_count": 12,
   "metadata": {},
   "outputs": [],
   "source": [
    "import random\n",
    "import numpy as np\n",
    "\n",
    "def rotationMatrix(teta):\n",
    "    Rx= np.array([\n",
    "        [1, 0, 0, 0],\n",
    "        [0, math.cos(teta[0]), -math.sin(teta[0]), 0],\n",
    "        [0, math.sin(teta[0]), math.cos(teta[0]), 0],\n",
    "        [0, 0, 0, 1]\n",
    "    ])\n",
    "    Ry= np.array([\n",
    "        [math.cos(teta[1]), 0, math.sin(teta[1]), 0],\n",
    "        [0, 1, 0, 0],\n",
    "        [-math.sin(teta[1]), 0, math.cos(teta[1]), 0],\n",
    "        [0, 0, 0, 1]\n",
    "    ])\n",
    "    Rz= np.array([\n",
    "        [math.cos(teta[2]), -math.sin(teta[2]), 0, 0],\n",
    "        [math.sin(teta[2]), math.cos(teta[2]), 0, 0],\n",
    "        [0, 0, 1, 0],\n",
    "        [0, 0, 0, 1]\n",
    "    ])\n",
    "    return Rx.dot(Ry).dot(Rz)\n",
    "\n",
    "def translationMatrix(tfactor):\n",
    "    R = np.array([\n",
    "        [1, 0, 0, 0],\n",
    "        [0, 1, 0, 0],\n",
    "        [0, 0, 1, 0],\n",
    "        [tfactor[0], tfactor[1], tfactor[2], 1],\n",
    "    ])\n",
    "    return R\n",
    "\n",
    "def scalingMatrix(sfactor):\n",
    "    R = np.array([\n",
    "        [sfactor[0], 0, 0, 0],\n",
    "        [0, sfactor[1], 0, 0],\n",
    "        [0, 0, sfactor[2], 0],\n",
    "        [0, 0, 0, 1],\n",
    "    ])\n",
    "    return R\n",
    "\n",
    "def generate(fun, filename, nb_point=1500, noise=(0, 0, 0), xmin=0, xmax=1500, teta=(0, 0, 0), tfactor = (0, 0, 0), sfactor = (0, 0, 0)):\n",
    "    f = open(filename, \"w+\")\n",
    "    f.write(\"Points 1, Points 2, Points 3\\n\")\n",
    "    for i in range(nb_point):\n",
    "        x = xmin + (xmax + xmin) / nb_point * i\n",
    "        res = fun(x)\n",
    "        if teta != (0, 0, 0):\n",
    "            #add rotation\n",
    "            R = rotationMatrix(teta)\n",
    "            res = res.dot(R)\n",
    "        if tfactor != (0, 0, 0):\n",
    "            #add translation\n",
    "             R = translationMatrix(tfactor)\n",
    "             res = res.dot(R)\n",
    "        if sfactor != (0, 0, 0):\n",
    "            #add scaling\n",
    "             R = scalingMatrix(sfactor)\n",
    "             res = res.dot(R)\n",
    "             \n",
    "        #add noise\n",
    "        res[0] += random.uniform(-noise[0], noise[0])\n",
    "        res[1] += random.uniform(-noise[1], noise[1])\n",
    "        res[2] += random.uniform(-noise[2], noise[2])\n",
    "        f.write(str(res[0]) + \", \" + str(res[1]) + \", \" + str(res[2]) + \"\\n\")\n",
    "    f.close()"
   ]
  },
  {
   "cell_type": "code",
   "execution_count": 13,
   "metadata": {},
   "outputs": [],
   "source": [
    "import math\n",
    "def function(x):\n",
    "    #The fourth coordinate should be one for the incoming transformation\n",
    "    res = np.array([x, x, x, 1])\n",
    "    return res"
   ]
  },
  {
   "cell_type": "code",
   "execution_count": 16,
   "metadata": {},
   "outputs": [],
   "source": [
    "filename = \"linetranslatedandrotated_test.txt\"\n",
    "generate(function, filename, tfactor=(1,0,0), teta=(42,24,0))"
   ]
  },
  {
   "cell_type": "code",
   "execution_count": null,
   "metadata": {},
   "outputs": [],
   "source": []
  }
 ],
 "metadata": {
  "kernelspec": {
   "display_name": "Python 3",
   "language": "python",
   "name": "python3"
  },
  "language_info": {
   "codemirror_mode": {
    "name": "ipython",
    "version": 3
   },
   "file_extension": ".py",
   "mimetype": "text/x-python",
   "name": "python",
   "nbconvert_exporter": "python",
   "pygments_lexer": "ipython3",
   "version": "3.8.5"
  }
 },
 "nbformat": 4,
 "nbformat_minor": 4
}
