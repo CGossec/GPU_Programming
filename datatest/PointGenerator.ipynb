{
 "cells": [
  {
   "cell_type": "code",
   "execution_count": 84,
   "metadata": {},
   "outputs": [],
   "source": [
    "import random\n",
    "def generate(fun, filename, nb_point=1500, noise=(0, 0, 0), xmin=0, xmax=1500):\n",
    "    f = open(filename, \"w+\")\n",
    "    f.write(\"Points 1, Points 2, Points 3\\n\")\n",
    "    for i in range(nb_point):\n",
    "        x = xmin + (xmax + xmin) / nb_point * i\n",
    "        a, b, c = fun(x)\n",
    "        a += random.uniform(-noise[0], noise[0])\n",
    "        b += random.uniform(-noise[1], noise[1])\n",
    "        c += random.uniform(-noise[2], noise[2])\n",
    "        f.write(str(a) + \", \" + str(b) + \", \" + str(c) + \"\\n\")\n",
    "    f.close()"
   ]
  },
  {
   "cell_type": "code",
   "execution_count": 85,
   "metadata": {},
   "outputs": [],
   "source": [
    "import math\n",
    "def function(x):\n",
    "    return math.cos(x) * x, math.sin(x) * x, x * 0.1"
   ]
  },
  {
   "cell_type": "code",
   "execution_count": 89,
   "metadata": {},
   "outputs": [],
   "source": [
    "filename = \"upSpiral01noised_test.txt\"\n",
    "generate(function, filename, noise=(1,1,1))"
   ]
  },
  {
   "cell_type": "code",
   "execution_count": null,
   "metadata": {},
   "outputs": [],
   "source": []
  }
 ],
 "metadata": {
  "kernelspec": {
   "display_name": "Python 3",
   "language": "python",
   "name": "python3"
  },
  "language_info": {
   "codemirror_mode": {
    "name": "ipython",
    "version": 3
   },
   "file_extension": ".py",
   "mimetype": "text/x-python",
   "name": "python",
   "nbconvert_exporter": "python",
   "pygments_lexer": "ipython3",
   "version": "3.8.5"
  }
 },
 "nbformat": 4,
 "nbformat_minor": 4
}
